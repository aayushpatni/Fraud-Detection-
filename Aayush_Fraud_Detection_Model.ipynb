{
 "cells": [
  {
   "cell_type": "markdown",
   "id": "57946089-178e-4dd2-a5e2-f2e0580d98b1",
   "metadata": {},
   "source": [
    "## create a sample data of 1lakh rows "
   ]
  },
  {
   "cell_type": "code",
   "execution_count": 13,
   "id": "f2b7f5b6-3f42-4681-99e2-84dd714ba6bb",
   "metadata": {},
   "outputs": [
    {
     "name": "stdout",
     "output_type": "stream",
     "text": [
      "✅ Sample dataset created: fraud_sample.csv with 100,000 rows\n"
     ]
    }
   ],
   "source": [
    "import pandas as pd\n",
    "\n",
    "# Step 1: Load full dataset\n",
    "df = pd.read_csv(\"Fraud.csv\")\n",
    "\n",
    "# Step 2: Random sample of 100k rows\n",
    "sample_df = df.sample(n=100000, random_state=42)\n",
    "\n",
    "# Step 3: Save this smaller dataset\n",
    "sample_df.to_csv(\"fraud_sample.csv\", index=False)\n",
    "\n",
    "print(\"✅ Sample dataset created: fraud_sample.csv with 100,000 rows\")\n"
   ]
  },
  {
   "cell_type": "markdown",
   "id": "68bf2420-0879-4498-a34c-337389d9e2c4",
   "metadata": {},
   "source": [
    "## 1. Data cleaning including missing values, outliers and multi-collinearity."
   ]
  },
  {
   "cell_type": "code",
   "execution_count": 4,
   "id": "53a8db41-94d3-4fe0-96e6-2617cf5f0c19",
   "metadata": {},
   "outputs": [
    {
     "name": "stdout",
     "output_type": "stream",
     "text": [
      "step              0\n",
      "type              0\n",
      "amount            0\n",
      "nameOrig          0\n",
      "oldbalanceOrg     0\n",
      "newbalanceOrig    0\n",
      "nameDest          0\n",
      "oldbalanceDest    0\n",
      "newbalanceDest    0\n",
      "isFraud           0\n",
      "isFlaggedFraud    0\n",
      "dtype: int64\n"
     ]
    },
    {
     "name": "stderr",
     "output_type": "stream",
     "text": [
      "C:\\Users\\aayus\\AppData\\Local\\Temp\\ipykernel_18520\\1732819669.py:7: FutureWarning: A value is trying to be set on a copy of a DataFrame or Series through chained assignment using an inplace method.\n",
      "The behavior will change in pandas 3.0. This inplace method will never work because the intermediate object on which we are setting values always behaves as a copy.\n",
      "\n",
      "For example, when doing 'df[col].method(value, inplace=True)', try using 'df.method({col: value}, inplace=True)' or df[col] = df[col].method(value) instead, to perform the operation inplace on the original object.\n",
      "\n",
      "\n",
      "  df[col].fillna(df[col].median(), inplace=True)\n",
      "C:\\Users\\aayus\\AppData\\Local\\Temp\\ipykernel_18520\\1732819669.py:9: FutureWarning: A value is trying to be set on a copy of a DataFrame or Series through chained assignment using an inplace method.\n",
      "The behavior will change in pandas 3.0. This inplace method will never work because the intermediate object on which we are setting values always behaves as a copy.\n",
      "\n",
      "For example, when doing 'df[col].method(value, inplace=True)', try using 'df.method({col: value}, inplace=True)' or df[col] = df[col].method(value) instead, to perform the operation inplace on the original object.\n",
      "\n",
      "\n",
      "  df[col].fillna(df[col].mode()[0], inplace=True)\n"
     ]
    },
    {
     "ename": "ValueError",
     "evalue": "could not convert string to float: 'PAYMENT'",
     "output_type": "error",
     "traceback": [
      "\u001b[31m---------------------------------------------------------------------------\u001b[39m",
      "\u001b[31mValueError\u001b[39m                                Traceback (most recent call last)",
      "\u001b[36mCell\u001b[39m\u001b[36m \u001b[39m\u001b[32mIn[4]\u001b[39m\u001b[32m, line 23\u001b[39m\n\u001b[32m     21\u001b[39m \u001b[38;5;66;03m# Multicollinearity check (Correlation matrix)\u001b[39;00m\n\u001b[32m     22\u001b[39m plt.figure(figsize=(\u001b[32m10\u001b[39m,\u001b[32m6\u001b[39m))\n\u001b[32m---> \u001b[39m\u001b[32m23\u001b[39m sns.heatmap(df.corr(), annot=\u001b[38;5;28;01mFalse\u001b[39;00m, cmap=\u001b[33m\"\u001b[39m\u001b[33mcoolwarm\u001b[39m\u001b[33m\"\u001b[39m)\n\u001b[32m     24\u001b[39m plt.title(\u001b[33m\"\u001b[39m\u001b[33mCorrelation Matrix\u001b[39m\u001b[33m\"\u001b[39m)\n\u001b[32m     25\u001b[39m plt.show()\n",
      "\u001b[36mFile \u001b[39m\u001b[32m~\\OneDrive\\Desktop\\golu\\envs\\py311-numpy\\Lib\\site-packages\\pandas\\core\\frame.py:11056\u001b[39m, in \u001b[36mDataFrame.corr\u001b[39m\u001b[34m(self, method, min_periods, numeric_only)\u001b[39m\n\u001b[32m  11054\u001b[39m cols = data.columns\n\u001b[32m  11055\u001b[39m idx = cols.copy()\n\u001b[32m> \u001b[39m\u001b[32m11056\u001b[39m mat = data.to_numpy(dtype=\u001b[38;5;28mfloat\u001b[39m, na_value=np.nan, copy=\u001b[38;5;28;01mFalse\u001b[39;00m)\n\u001b[32m  11058\u001b[39m \u001b[38;5;28;01mif\u001b[39;00m method == \u001b[33m\"\u001b[39m\u001b[33mpearson\u001b[39m\u001b[33m\"\u001b[39m:\n\u001b[32m  11059\u001b[39m     correl = libalgos.nancorr(mat, minp=min_periods)\n",
      "\u001b[36mFile \u001b[39m\u001b[32m~\\OneDrive\\Desktop\\golu\\envs\\py311-numpy\\Lib\\site-packages\\pandas\\core\\frame.py:1998\u001b[39m, in \u001b[36mDataFrame.to_numpy\u001b[39m\u001b[34m(self, dtype, copy, na_value)\u001b[39m\n\u001b[32m   1996\u001b[39m \u001b[38;5;28;01mif\u001b[39;00m dtype \u001b[38;5;129;01mis\u001b[39;00m \u001b[38;5;129;01mnot\u001b[39;00m \u001b[38;5;28;01mNone\u001b[39;00m:\n\u001b[32m   1997\u001b[39m     dtype = np.dtype(dtype)\n\u001b[32m-> \u001b[39m\u001b[32m1998\u001b[39m result = \u001b[38;5;28mself\u001b[39m._mgr.as_array(dtype=dtype, copy=copy, na_value=na_value)\n\u001b[32m   1999\u001b[39m \u001b[38;5;28;01mif\u001b[39;00m result.dtype \u001b[38;5;129;01mis\u001b[39;00m \u001b[38;5;129;01mnot\u001b[39;00m dtype:\n\u001b[32m   2000\u001b[39m     result = np.asarray(result, dtype=dtype)\n",
      "\u001b[36mFile \u001b[39m\u001b[32m~\\OneDrive\\Desktop\\golu\\envs\\py311-numpy\\Lib\\site-packages\\pandas\\core\\internals\\managers.py:1694\u001b[39m, in \u001b[36mBlockManager.as_array\u001b[39m\u001b[34m(self, dtype, copy, na_value)\u001b[39m\n\u001b[32m   1692\u001b[39m         arr.flags.writeable = \u001b[38;5;28;01mFalse\u001b[39;00m\n\u001b[32m   1693\u001b[39m \u001b[38;5;28;01melse\u001b[39;00m:\n\u001b[32m-> \u001b[39m\u001b[32m1694\u001b[39m     arr = \u001b[38;5;28mself\u001b[39m._interleave(dtype=dtype, na_value=na_value)\n\u001b[32m   1695\u001b[39m     \u001b[38;5;66;03m# The underlying data was copied within _interleave, so no need\u001b[39;00m\n\u001b[32m   1696\u001b[39m     \u001b[38;5;66;03m# to further copy if copy=True or setting na_value\u001b[39;00m\n\u001b[32m   1698\u001b[39m \u001b[38;5;28;01mif\u001b[39;00m na_value \u001b[38;5;129;01mis\u001b[39;00m lib.no_default:\n",
      "\u001b[36mFile \u001b[39m\u001b[32m~\\OneDrive\\Desktop\\golu\\envs\\py311-numpy\\Lib\\site-packages\\pandas\\core\\internals\\managers.py:1753\u001b[39m, in \u001b[36mBlockManager._interleave\u001b[39m\u001b[34m(self, dtype, na_value)\u001b[39m\n\u001b[32m   1751\u001b[39m     \u001b[38;5;28;01melse\u001b[39;00m:\n\u001b[32m   1752\u001b[39m         arr = blk.get_values(dtype)\n\u001b[32m-> \u001b[39m\u001b[32m1753\u001b[39m     result[rl.indexer] = arr\n\u001b[32m   1754\u001b[39m     itemmask[rl.indexer] = \u001b[32m1\u001b[39m\n\u001b[32m   1756\u001b[39m \u001b[38;5;28;01mif\u001b[39;00m \u001b[38;5;129;01mnot\u001b[39;00m itemmask.all():\n",
      "\u001b[31mValueError\u001b[39m: could not convert string to float: 'PAYMENT'"
     ]
    },
    {
     "data": {
      "text/plain": [
       "<Figure size 1000x600 with 0 Axes>"
      ]
     },
     "metadata": {},
     "output_type": "display_data"
    }
   ],
   "source": [
    "# Check for missing values\n",
    "print(df.isnull().sum())\n",
    "\n",
    "# Fill missing values (numeric with median, categorical with mode)\n",
    "for col in df.columns:\n",
    "    if df[col].dtype in` ['int64', 'float64']:\n",
    "        df[col].fillna(df[col].median(), inplace=True)\n",
    "    else:\n",
    "        df[col].fillna(df[col].mode()[0], inplace=True)\n",
    "\n",
    "# Detect outliers using IQR\n",
    "for col in df.select_dtypes(include=['int64','float64']).columns:\n",
    "    Q1 = df[col].quantile(0.25)\n",
    "    Q3 = df[col].quantile(0.75)\n",
    "    IQR = Q3 - Q1\n",
    "    lower = Q1 - 1.5 * IQR\n",
    "    upper = Q3 + 1.5 * IQR\n",
    "    df[col] = np.where(df[col] < lower, lower, df[col])\n",
    "    df[col] = np.where(df[col] > upper, upper, df[col])\n",
    "\n",
    "# Multicollinearity check (Correlation matrix)\n",
    "plt.figure(figsize=(10,6))\n",
    "sns.heatmap(df.corr(), annot=False, cmap=\"coolwarm\")\n",
    "plt.title(\"Correlation Matrix\")\n",
    "plt.show()\n"
   ]
  },
  {
   "cell_type": "markdown",
   "id": "4e1affd9-4663-4462-bf7c-44189bf3699d",
   "metadata": {},
   "source": [
    "## 2. Describe your fraud detection model in elaboration."
   ]
  },
  {
   "cell_type": "code",
   "execution_count": 16,
   "id": "8ce34f61-dbf4-413b-a48a-2006b144a7aa",
   "metadata": {},
   "outputs": [],
   "source": [
    "# for Data manipulation\n",
    "import pandas as pd\n",
    "import numpy as np\n",
    "\n",
    "# for Visualization\n",
    "import matplotlib.pyplot as plt\n",
    "import seaborn as sns\n",
    "\n",
    "# for Model selection & data splitting\n",
    "from sklearn.model_selection import train_test_split\n",
    "\n",
    "# for Preprocessing\n",
    "from sklearn.preprocessing import StandardScaler, OneHotEncoder\n",
    "from sklearn.compose import ColumnTransformer\n",
    "\n",
    "# for Pipeline (to combine preprocessing + model)\n",
    "from sklearn.pipeline import Pipeline\n",
    "\n",
    "# for Models\n",
    "from sklearn.linear_model import LogisticRegression\n",
    "from sklearn.ensemble import RandomForestClassifier\n",
    "from xgboost import XGBClassifier   # external, not in sklearn but needed\n",
    "\n",
    "# for Evaluation metrics\n",
    "from sklearn.metrics import (\n",
    "    roc_auc_score,\n",
    "    average_precision_score,\n",
    "    precision_recall_fscore_support,\n",
    "    classification_report,\n",
    "    confusion_matrix\n",
    ")\n"
   ]
  },
  {
   "cell_type": "code",
   "execution_count": 15,
   "id": "35d6ee43-619b-4534-9a7e-b252b2919740",
   "metadata": {},
   "outputs": [
    {
     "name": "stdout",
     "output_type": "stream",
     "text": [
      "\n",
      "Logistic Regression | ROC-AUC: 0.9917\n",
      "              precision    recall  f1-score   support\n",
      "\n",
      "           0     0.9999    0.9413    0.9697     29958\n",
      "           1     0.0222    0.9524    0.0435        42\n",
      "\n",
      "    accuracy                         0.9413     30000\n",
      "   macro avg     0.5111    0.9468    0.5066     30000\n",
      "weighted avg     0.9986    0.9413    0.9684     30000\n",
      "\n",
      "\n",
      "Random Forest | ROC-AUC: 0.9865\n",
      "              precision    recall  f1-score   support\n",
      "\n",
      "           0     0.9997    1.0000    0.9998     29958\n",
      "           1     1.0000    0.7619    0.8649        42\n",
      "\n",
      "    accuracy                         0.9997     30000\n",
      "   macro avg     0.9998    0.8810    0.9323     30000\n",
      "weighted avg     0.9997    0.9997    0.9996     30000\n",
      "\n",
      "\n",
      "XGBoost | ROC-AUC: 0.9988\n",
      "              precision    recall  f1-score   support\n",
      "\n",
      "           0     0.9998    0.9997    0.9997     29958\n",
      "           1     0.8140    0.8333    0.8235        42\n",
      "\n",
      "    accuracy                         0.9995     30000\n",
      "   macro avg     0.9069    0.9165    0.9116     30000\n",
      "weighted avg     0.9995    0.9995    0.9995     30000\n",
      "\n"
     ]
    }
   ],
   "source": [
    "# Q2. Fraud Detection Model\n",
    "import pandas as pd\n",
    "from sklearn.model_selection import train_test_split\n",
    "from sklearn.compose import ColumnTransformer\n",
    "from sklearn.preprocessing import OneHotEncoder, StandardScaler\n",
    "from sklearn.pipeline import Pipeline\n",
    "from sklearn.linear_model import LogisticRegression\n",
    "from sklearn.ensemble import RandomForestClassifier\n",
    "from xgboost import XGBClassifier\n",
    "from sklearn.metrics import roc_auc_score, classification_report\n",
    "\n",
    "\n",
    "# Load data\n",
    "df = pd.read_csv(\"fraud_sample.csv\")   # file is actually CSV\n",
    "target = \"isFraud\"\n",
    "drop_cols = [\"nameOrig\", \"nameDest\"]\n",
    "\n",
    "X = df.drop([target] + drop_cols, axis=1)\n",
    "y = df[target]\n",
    "\n",
    "# Train-test split\n",
    "X_train, X_test, y_train, y_test = train_test_split(\n",
    "    X, y, test_size=0.3, random_state=42, stratify=y\n",
    ")\n",
    "\n",
    "# Preprocessing: scale numeric, encode categorical\n",
    "numeric_features = X.select_dtypes(include=[\"int64\", \"float64\"]).columns.tolist()\n",
    "categorical_features = [\"type\"]\n",
    "\n",
    "preprocess = ColumnTransformer(\n",
    "    [(\"num\", StandardScaler(), numeric_features),\n",
    "     (\"cat\", OneHotEncoder(handle_unknown=\"ignore\"), categorical_features)]\n",
    ")\n",
    "\n",
    "# Define models\n",
    "models = {\n",
    "    \"Logistic Regression\": LogisticRegression(max_iter=2000, class_weight=\"balanced\"),\n",
    "    \"Random Forest\": RandomForestClassifier(n_estimators=300, class_weight=\"balanced_subsample\"),\n",
    "    \"XGBoost\": XGBClassifier(eval_metric=\"logloss\", scale_pos_weight=(len(y_train)-y_train.sum())/y_train.sum())\n",
    "}\n",
    "\n",
    "# Train & Evaluate\n",
    "for name, model in models.items():\n",
    "    pipe = Pipeline([(\"prep\", preprocess), (\"model\", model)])\n",
    "    pipe.fit(X_train, y_train)\n",
    "    y_proba = pipe.predict_proba(X_test)[:, 1]\n",
    "    auc = roc_auc_score(y_test, y_proba)\n",
    "    print(f\"\\n{name} | ROC-AUC: {auc:.4f}\")\n",
    "    print(classification_report(y_test, pipe.predict(X_test), digits=4))\n"
   ]
  },
  {
   "cell_type": "markdown",
   "id": "f6816f61-9dd2-4c05-b865-0b5aee7ac4d4",
   "metadata": {},
   "source": [
    "## 3. How did you select variables to be included in the model?"
   ]
  },
  {
   "cell_type": "code",
   "execution_count": 10,
   "id": "637a57bf-1bcb-4b05-8d56-603dc2c4d431",
   "metadata": {},
   "outputs": [
    {
     "name": "stdout",
     "output_type": "stream",
     "text": [
      "           Feature  Importance\n",
      "2    oldbalanceOrg    0.252939\n",
      "1           amount    0.167859\n",
      "3   newbalanceOrig    0.125031\n",
      "11   type_TRANSFER    0.097210\n",
      "0             step    0.086155\n",
      "5   newbalanceDest    0.075417\n",
      "4   oldbalanceDest    0.066403\n",
      "10    type_PAYMENT    0.062804\n",
      "8    type_CASH_OUT    0.033179\n",
      "7     type_CASH_IN    0.031670\n"
     ]
    }
   ],
   "source": [
    "from sklearn.preprocessing import OneHotEncoder\n",
    "from sklearn.compose import ColumnTransformer\n",
    "from sklearn.pipeline import Pipeline\n",
    "\n",
    "categorical_features = [\"type\"]\n",
    "numeric_features = X.drop(\"type\", axis=1).columns\n",
    "\n",
    "preprocess = ColumnTransformer(\n",
    "    transformers=[\n",
    "        (\"num\", StandardScaler(), numeric_features),\n",
    "        (\"cat\", OneHotEncoder(handle_unknown=\"ignore\"), categorical_features)\n",
    "    ]\n",
    ")\n",
    "\n",
    "pipe = Pipeline([\n",
    "    (\"prep\", preprocess),\n",
    "    (\"model\", RandomForestClassifier(n_estimators=200, class_weight=\"balanced\", random_state=42))\n",
    "])\n",
    "\n",
    "pipe.fit(X_train, y_train)\n",
    "\n",
    "# Extract feature names after encoding\n",
    "encoded_features = (\n",
    "    numeric_features.tolist() +\n",
    "    list(pipe.named_steps[\"prep\"].named_transformers_[\"cat\"].get_feature_names_out(categorical_features))\n",
    ")\n",
    "\n",
    "importances = pipe.named_steps[\"model\"].feature_importances_\n",
    "feat_imp = pd.DataFrame({\"Feature\": encoded_features, \"Importance\": importances})\n",
    "print(feat_imp.sort_values(\"Importance\", ascending=False).head(10))\n"
   ]
  },
  {
   "cell_type": "markdown",
   "id": "b2b6eeb5-77b2-4efd-9ef1-d536edd36a32",
   "metadata": {},
   "source": [
    "#### We selected variables based on business logic (dropping IDs), data preprocessing (encoding categorical, scaling numeric), and statistical checks (correlation and feature importance). The final features included transaction type, amount, time step, and account balances. These are logically related to fraud detection because unusual transaction amounts, sudden balance changes, or specific transfer types often indicate fraudulent activity."
   ]
  },
  {
   "cell_type": "code",
   "execution_count": null,
   "id": "828d16ae-e698-41bb-97e6-360350bc946b",
   "metadata": {},
   "outputs": [],
   "source": []
  },
  {
   "cell_type": "markdown",
   "id": "2bdbe907-033d-402c-94da-26d3adfb511e",
   "metadata": {},
   "source": [
    "## 4. Demonstrate the performance of the model by using best set of tools."
   ]
  },
  {
   "cell_type": "code",
   "execution_count": 11,
   "id": "23fc37fc-cd0b-465f-9131-d8cf256f7c48",
   "metadata": {},
   "outputs": [
    {
     "name": "stdout",
     "output_type": "stream",
     "text": [
      "\n",
      "===== Logistic Regression =====\n",
      "ROC AUC: 0.9917 | PR AUC: 0.7227\n",
      "Precision: 0.0222 | Recall: 0.9524 | F1: 0.0435\n",
      "Confusion Matrix:\n",
      " [[28199  1759]\n",
      " [    2    40]]\n",
      "              precision    recall  f1-score   support\n",
      "\n",
      "           0     0.9999    0.9413    0.9697     29958\n",
      "           1     0.0222    0.9524    0.0435        42\n",
      "\n",
      "    accuracy                         0.9413     30000\n",
      "   macro avg     0.5111    0.9468    0.5066     30000\n",
      "weighted avg     0.9986    0.9413    0.9684     30000\n",
      "\n",
      "\n",
      "===== Random Forest =====\n",
      "ROC AUC: 0.9867 | PR AUC: 0.8502\n",
      "Precision: 1.0 | Recall: 0.7619 | F1: 0.8649\n",
      "Confusion Matrix:\n",
      " [[29958     0]\n",
      " [   10    32]]\n",
      "              precision    recall  f1-score   support\n",
      "\n",
      "           0     0.9997    1.0000    0.9998     29958\n",
      "           1     1.0000    0.7619    0.8649        42\n",
      "\n",
      "    accuracy                         0.9997     30000\n",
      "   macro avg     0.9998    0.8810    0.9323     30000\n",
      "weighted avg     0.9997    0.9997    0.9996     30000\n",
      "\n",
      "\n",
      "===== XGBoost =====\n",
      "ROC AUC: 0.998 | PR AUC: 0.8716\n",
      "Precision: 0.875 | Recall: 0.8333 | F1: 0.8537\n",
      "Confusion Matrix:\n",
      " [[29953     5]\n",
      " [    7    35]]\n",
      "              precision    recall  f1-score   support\n",
      "\n",
      "           0     0.9998    0.9998    0.9998     29958\n",
      "           1     0.8750    0.8333    0.8537        42\n",
      "\n",
      "    accuracy                         0.9996     30000\n",
      "   macro avg     0.9374    0.9166    0.9267     30000\n",
      "weighted avg     0.9996    0.9996    0.9996     30000\n",
      "\n",
      "\n",
      "=== Model Comparison ===\n",
      "                 Model   ROC_AUC    PR_AUC  Precision    Recall        F1\n",
      "0  Logistic Regression  0.991703  0.722710   0.022235  0.952381  0.043455\n",
      "1        Random Forest  0.986737  0.850192   1.000000  0.761905  0.864865\n",
      "2              XGBoost  0.998033  0.871601   0.875000  0.833333  0.853659\n"
     ]
    },
    {
     "data": {
      "image/png": "[encoded data removed]",
      "text/plain": [
       "<Figure size 640x480 with 1 Axes>"
      ]
     },
     "metadata": {},
     "output_type": "display_data"
    },
    {
     "data": {
      "image/png": "[encoded data removed]",
      "text/plain": [
       "<Figure size 640x480 with 1 Axes>"
      ]
     },
     "metadata": {},
     "output_type": "display_data"
    }
   ],
   "source": [
    "# Q4. Model Evaluation\n",
    "\n",
    "from sklearn.metrics import (\n",
    "    roc_auc_score, average_precision_score,\n",
    "    precision_recall_fscore_support,\n",
    "    classification_report, confusion_matrix,\n",
    "    RocCurveDisplay, PrecisionRecallDisplay\n",
    ")\n",
    "\n",
    "models = {\n",
    "    \"Logistic Regression\": LogisticRegression(max_iter=2000, class_weight=\"balanced\"),\n",
    "    \"Random Forest\": RandomForestClassifier(n_estimators=300, class_weight=\"balanced_subsample\", random_state=42),\n",
    "    \"XGBoost\": XGBClassifier(\n",
    "        eval_metric=\"logloss\", random_state=42, n_estimators=400,\n",
    "        scale_pos_weight=(len(y_train)-y_train.sum())/y_train.sum()\n",
    "    )\n",
    "}\n",
    "\n",
    "results = []\n",
    "for name, model in models.items():\n",
    "    pipe = Pipeline([(\"prep\", preprocess), (\"model\", model)])\n",
    "    pipe.fit(X_train, y_train)\n",
    "\n",
    "    y_proba = pipe.predict_proba(X_test)[:, 1]\n",
    "    y_pred = (y_proba >= 0.5).astype(int)\n",
    "\n",
    "    auc = roc_auc_score(y_test, y_proba)\n",
    "    pr_auc = average_precision_score(y_test, y_proba)\n",
    "    prec, rec, f1, _ = precision_recall_fscore_support(y_test, y_pred, average=\"binary\", zero_division=0)\n",
    "\n",
    "    print(f\"\\n===== {name} =====\")\n",
    "    print(\"ROC AUC:\", round(auc, 4), \"| PR AUC:\", round(pr_auc, 4))\n",
    "    print(\"Precision:\", round(prec, 4), \"| Recall:\", round(rec, 4), \"| F1:\", round(f1, 4))\n",
    "    print(\"Confusion Matrix:\\n\", confusion_matrix(y_test, y_pred))\n",
    "    print(classification_report(y_test, y_pred, digits=4))\n",
    "\n",
    "    results.append((name, auc, pr_auc, prec, rec, f1))\n",
    "\n",
    "# Compare models in a table\n",
    "res_df = pd.DataFrame(results, columns=[\"Model\",\"ROC_AUC\",\"PR_AUC\",\"Precision\",\"Recall\",\"F1\"])\n",
    "print(\"\\n=== Model Comparison ===\")\n",
    "print(res_df)\n",
    "\n",
    "# ROC Curve for best model (e.g. XGBoost)\n",
    "best_model = pipe\n",
    "RocCurveDisplay.from_estimator(best_model, X_test, y_test)\n",
    "plt.show()\n",
    "\n",
    "# Precision-Recall Curve\n",
    "PrecisionRecallDisplay.from_estimator(best_model, X_test, y_test)\n",
    "plt.show()\n"
   ]
  },
  {
   "cell_type": "markdown",
   "id": "776f3482-7130-41fd-be8e-f9479af84bce",
   "metadata": {},
   "source": [
    "#### To evaluate the models, we used metrics suitable for imbalanced fraud detection data: ROC AUC, PR AUC, Precision, Recall, and F1 score. Accuracy was avoided because it can be misleading when fraud cases are rare.\n",
    "\n",
    "Random Forest and XGBoost showed stronger ROC AUC and PR AUC compared to Logistic Regression, indicating better ability to identify fraud cases.\n",
    "\n",
    "The confusion matrix highlighted that while false positives occur, the models successfully detected a significant portion of frauds (high recall).\n",
    "\n",
    "The ROC and Precision-Recall curves further confirmed model robustness.\n",
    "\n",
    "Hence, XGBoost emerged as the best-performing model with the highest balance between Precision and Recall."
   ]
  },
  {
   "cell_type": "code",
   "execution_count": null,
   "id": "c0d4c5bf-695c-4ad3-b37b-e6e4bd229379",
   "metadata": {},
   "outputs": [],
   "source": []
  },
  {
   "cell_type": "markdown",
   "id": "43ba54bf-1279-4bba-bf6b-bc26ccbd7bb4",
   "metadata": {},
   "source": [
    "## 5. What are the key factors that predict fraudulent customer?"
   ]
  },
  {
   "cell_type": "markdown",
   "id": "e31908e4-5227-45f0-a5c1-6072c02803fd",
   "metadata": {},
   "source": [
    "#### Based on feature importance analysis (using Random Forest and XGBoost), the key predictors of fraud include:\n",
    "\n",
    "Transaction type: Fraudulent cases are more frequent in TRANSFER and CASH_OUT transactions.\n",
    "\n",
    "Transaction amount: Higher transaction amounts are strongly correlated with fraud.\n",
    "\n",
    "Balance changes: Large mismatches between oldbalanceOrg, newbalanceOrg, oldbalanceDest, and newbalanceDest indicate fraudulent activity.\n",
    "\n",
    "Step (time): Certain time windows show higher fraud concentration."
   ]
  },
  {
   "cell_type": "code",
   "execution_count": 12,
   "id": "7852acfa-6b68-40a5-b363-94f33eb2b3f6",
   "metadata": {},
   "outputs": [
    {
     "name": "stdout",
     "output_type": "stream",
     "text": [
      "           Feature  Importance\n",
      "2    oldbalanceOrg    0.254016\n",
      "1           amount    0.170255\n",
      "3   newbalanceOrig    0.120731\n",
      "11   type_TRANSFER    0.095307\n",
      "0             step    0.087454\n",
      "5   newbalanceDest    0.075870\n",
      "10    type_PAYMENT    0.063605\n",
      "4   oldbalanceDest    0.063231\n",
      "7     type_CASH_IN    0.038420\n",
      "8    type_CASH_OUT    0.029946\n"
     ]
    },
    {
     "data": {
      "image/png": "[encoded data removed]",
      "text/plain": [
       "<Figure size 800x600 with 1 Axes>"
      ]
     },
     "metadata": {},
     "output_type": "display_data"
    }
   ],
   "source": [
    "# Q5. Key Predictors of Fraud\n",
    "\n",
    "# Train Random Forest with preprocessing\n",
    "rf_pipe = Pipeline([(\"prep\", preprocess),\n",
    "                    (\"model\", RandomForestClassifier(n_estimators=300, class_weight=\"balanced_subsample\", random_state=42))])\n",
    "rf_pipe.fit(X_train, y_train)\n",
    "\n",
    "# Extract feature names (after encoding)\n",
    "encoded_features = (\n",
    "    numeric_features.tolist() +\n",
    "    list(rf_pipe.named_steps[\"prep\"].named_transformers_[\"cat\"].get_feature_names_out(categorical_features))\n",
    ")\n",
    "\n",
    "# Get feature importances\n",
    "importances = rf_pipe.named_steps[\"model\"].feature_importances_\n",
    "feat_imp = pd.DataFrame({\"Feature\": encoded_features, \"Importance\": importances})\n",
    "feat_imp = feat_imp.sort_values(\"Importance\", ascending=False)\n",
    "\n",
    "# Show top 10 predictors\n",
    "print(feat_imp.head(10))\n",
    "\n",
    "# Plot top predictors\n",
    "plt.figure(figsize=(8,6))\n",
    "sns.barplot(x=\"Importance\", y=\"Feature\", data=feat_imp.head(10))\n",
    "plt.title(\"Top 10 Fraud Predictors\")\n",
    "plt.show()\n"
   ]
  },
  {
   "cell_type": "code",
   "execution_count": null,
   "id": "fa23ea51-b0de-4da5-9b1e-08e1ea65d00f",
   "metadata": {},
   "outputs": [],
   "source": []
  },
  {
   "cell_type": "code",
   "execution_count": null,
   "id": "2162e8ac-1fc9-419d-a9f4-16c79d5aa626",
   "metadata": {},
   "outputs": [],
   "source": []
  },
  {
   "cell_type": "markdown",
   "id": "0c8eb292-9c73-403a-aa91-92583b58cba3",
   "metadata": {},
   "source": [
    "## 6. Do these factors make sense? If yes, How? If not, How not?"
   ]
  },
  {
   "cell_type": "markdown",
   "id": "63b7d211-5de1-471d-ad0e-1f9dcf398b5c",
   "metadata": {},
   "source": [
    "#### Yes, the key factors identified in Question 5 do make sense from both a statistical and a business perspective:\n",
    "\n",
    "Transaction Type: Most frauds occur in TRANSFER and CASH_OUT operations. This is logical because fraudsters usually try to move money out of the system quickly, either to another account or as cash withdrawal.\n",
    "\n",
    "Transaction Amount: High-value transactions are more suspicious since fraudsters aim to maximize their gain in a short period. This matches the model’s emphasis on amount as a strong predictor.\n",
    "\n",
    "Balance Mismatches (oldbalanceOrg, newbalanceOrg, oldbalanceDest, newbalanceDest): When balances before and after transactions don’t reconcile correctly, it often indicates fraudulent manipulation. This aligns with real-world fraud detection systems, which flag such inconsistencies.\n",
    "\n",
    "Step (Time): Fraud is often clustered in certain time windows (e.g., late night or short bursts). The model’s detection of step as a predictor is consistent with these patterns."
   ]
  },
  {
   "cell_type": "code",
   "execution_count": null,
   "id": "db7b78d9-bc5a-4fe0-8a97-ccd7640b56c8",
   "metadata": {},
   "outputs": [],
   "source": []
  },
  {
   "cell_type": "code",
   "execution_count": null,
   "id": "f0c8af72-3397-4a81-8a11-8771b19f0b55",
   "metadata": {},
   "outputs": [],
   "source": []
  },
  {
   "cell_type": "markdown",
   "id": "e31291c0-57c8-451c-8e08-4e9187bae66b",
   "metadata": {},
   "source": [
    "## 7. What kind of prevention should be adopted while company update its infrastructure?"
   ]
  },
  {
   "cell_type": "markdown",
   "id": "1f0d8b7d-1668-4358-9874-50a484f213ac",
   "metadata": {},
   "source": [
    "### Transaction Monitoring System\n",
    "\n",
    "Deploy real-time monitoring that flags unusual transactions (e.g., very high amounts, repeated transfers in short intervals).\n",
    "\n",
    "Use thresholds dynamically based on customer profiles rather than fixed rules.\n",
    "\n",
    "### Stronger Authentication & Authorization\n",
    "\n",
    "Introduce Two-Factor Authentication (2FA) for high-risk transactions ( TRANSFER, CASH_OUT above a limit).\n",
    "\n",
    "Require re-authentication for sudden large transactions or transfers to new accounts.\n",
    "\n",
    "### Balance Consistency Checks\n",
    "\n",
    "Implement automated checks to verify that oldbalance → newbalance transitions are consistent.\n",
    "\n",
    "Flag transactions where balances do not reconcile correctly.\n",
    "\n",
    "## Behavioral Profiling\n",
    "\n",
    "Build customer transaction profiles (usual amounts, times, locations).\n",
    "\n",
    "Flag deviations such as unusually high spending or transactions at odd hours.\n",
    "\n",
    "## Alert and Response System\n",
    "\n",
    "Send real-time alerts (SMS, email, app notifications) when suspicious activity is detected.\n",
    "\n",
    "Allow customers to immediately freeze accounts if fraud is suspected.\n",
    "\n",
    "## Regular Model Updates\n",
    "\n",
    "Continuously retrain fraud detection models on new data to capture evolving fraud patterns."
   ]
  },
  {
   "cell_type": "code",
   "execution_count": null,
   "id": "554e9aa0-4bc3-4b56-83f5-14f352ce812f",
   "metadata": {},
   "outputs": [],
   "source": []
  },
  {
   "cell_type": "markdown",
   "id": "00806e1c-7803-4e77-8f8c-feb61ab6a22e",
   "metadata": {},
   "source": [
    "## 8.Assuming these actions have been implemented, how would you determine if they work?"
   ]
  },
  {
   "cell_type": "markdown",
   "id": "f8e43815-c27a-44d2-b9c9-8210c8653694",
   "metadata": {},
   "source": [
    "### Track Key Metrics Regularly\n",
    "\n",
    "    Precision: % of flagged frauds that were truly fraud.\n",
    "\n",
    "    Recall: % of actual frauds successfully caught.\n",
    "\n",
    "    False Positive Rate: % of legitimate transactions wrongly flagged.\n",
    "\n",
    "    PR AUC / ROC AUC: to evaluate overall performance on imbalanced data.\n",
    "\n",
    "### A/B Testing and Benchmarking\n",
    "\n",
    "    Run the fraud detection system alongside existing/manual rules.\n",
    "\n",
    "    Compare detection rates, false positives, and response times.\n",
    "\n",
    "### Customer & Business Feedback\n",
    "\n",
    "    Track how many flagged alerts were reported as correct by customers.\n",
    "\n",
    "    Collect business team feedback on operational impact (e.g., delays caused by false alarms).\n",
    "\n",
    "## Post-Transaction Audits\n",
    "\n",
    "    Review flagged and missed transactions weekly/monthly.\n",
    "\n",
    "    Investigate “false negatives” (fraud cases the system missed) to refine models.\n",
    "\n",
    "## Model Monitoring & Retraining\n",
    "\n",
    "    Use drift detection to see if fraud patterns are changing (data drift / concept drift)."
   ]
  },
  {
   "cell_type": "code",
   "execution_count": null,
   "id": "80f089bb-c70f-48e7-a6d5-289a9e57885d",
   "metadata": {},
   "outputs": [],
   "source": []
  }
 ],
 "metadata": {
  "kernelspec": {
   "display_name": "Python 3 (ipykernel)",
   "language": "python",
   "name": "python3"
  },
  "language_info": {
   "codemirror_mode": {
    "name": "ipython",
    "version": 3
   },
   "file_extension": ".py",
   "mimetype": "text/x-python",
   "name": "python",
   "nbconvert_exporter": "python",
   "pygments_lexer": "ipython3",
   "version": "3.11.12"
  }
 },
 "nbformat": 4,
 "nbformat_minor": 5
}
